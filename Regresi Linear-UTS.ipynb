{
 "cells": [
  {
   "cell_type": "code",
   "execution_count": 1,
   "id": "57fa1e3c",
   "metadata": {},
   "outputs": [
    {
     "data": {
      "text/html": [
       "<div>\n",
       "<style scoped>\n",
       "    .dataframe tbody tr th:only-of-type {\n",
       "        vertical-align: middle;\n",
       "    }\n",
       "\n",
       "    .dataframe tbody tr th {\n",
       "        vertical-align: top;\n",
       "    }\n",
       "\n",
       "    .dataframe thead th {\n",
       "        text-align: right;\n",
       "    }\n",
       "</style>\n",
       "<table border=\"1\" class=\"dataframe\">\n",
       "  <thead>\n",
       "    <tr style=\"text-align: right;\">\n",
       "      <th></th>\n",
       "      <th>Production (X)</th>\n",
       "      <th>Harvest Area (Y)</th>\n",
       "    </tr>\n",
       "  </thead>\n",
       "  <tbody>\n",
       "    <tr>\n",
       "      <th>0</th>\n",
       "      <td>1329536.0</td>\n",
       "      <td>323589.0</td>\n",
       "    </tr>\n",
       "    <tr>\n",
       "      <th>1</th>\n",
       "      <td>1299699.0</td>\n",
       "      <td>329041.0</td>\n",
       "    </tr>\n",
       "    <tr>\n",
       "      <th>2</th>\n",
       "      <td>1382905.0</td>\n",
       "      <td>339253.0</td>\n",
       "    </tr>\n",
       "    <tr>\n",
       "      <th>3</th>\n",
       "      <td>1419128.0</td>\n",
       "      <td>348223.0</td>\n",
       "    </tr>\n",
       "    <tr>\n",
       "      <th>4</th>\n",
       "      <td>1368074.0</td>\n",
       "      <td>337561.0</td>\n",
       "    </tr>\n",
       "  </tbody>\n",
       "</table>\n",
       "</div>"
      ],
      "text/plain": [
       "   Production (X)  Harvest Area (Y)\n",
       "0       1329536.0          323589.0\n",
       "1       1299699.0          329041.0\n",
       "2       1382905.0          339253.0\n",
       "3       1419128.0          348223.0\n",
       "4       1368074.0          337561.0"
      ]
     },
     "execution_count": 1,
     "metadata": {},
     "output_type": "execute_result"
    }
   ],
   "source": [
    "# Import library pandas untuk manipulasi dan analisis data\n",
    "import pandas as pd\n",
    "\n",
    "# Membaca dataset 'R02_rice_field.csv' menggunakan pandas dan menampilkan 5 baris pertama\n",
    "data1 = pd.read_csv('R02_rice_field.csv')\n",
    "data1.head()"
   ]
  },
  {
   "cell_type": "markdown",
   "id": "8b4bcc1e",
   "metadata": {},
   "source": [
    "Kode di atas adalah untuk membaca dataset yang disimpan dalam format CSV menggunakan pustaka pandas. Fungsi head() digunakan untuk menampilkan lima baris pertama dari dataset."
   ]
  },
  {
   "cell_type": "markdown",
   "id": "cb64acf0",
   "metadata": {},
   "source": [
    "## Korelasi"
   ]
  },
  {
   "cell_type": "code",
   "execution_count": 2,
   "id": "3f5d6c2d",
   "metadata": {},
   "outputs": [
    {
     "data": {
      "text/html": [
       "<div>\n",
       "<style scoped>\n",
       "    .dataframe tbody tr th:only-of-type {\n",
       "        vertical-align: middle;\n",
       "    }\n",
       "\n",
       "    .dataframe tbody tr th {\n",
       "        vertical-align: top;\n",
       "    }\n",
       "\n",
       "    .dataframe thead th {\n",
       "        text-align: right;\n",
       "    }\n",
       "</style>\n",
       "<table border=\"1\" class=\"dataframe\">\n",
       "  <thead>\n",
       "    <tr style=\"text-align: right;\">\n",
       "      <th></th>\n",
       "      <th>Production (X)</th>\n",
       "      <th>Harvest Area (Y)</th>\n",
       "    </tr>\n",
       "  </thead>\n",
       "  <tbody>\n",
       "    <tr>\n",
       "      <th>Production (X)</th>\n",
       "      <td>1.000000</td>\n",
       "      <td>0.905622</td>\n",
       "    </tr>\n",
       "    <tr>\n",
       "      <th>Harvest Area (Y)</th>\n",
       "      <td>0.905622</td>\n",
       "      <td>1.000000</td>\n",
       "    </tr>\n",
       "  </tbody>\n",
       "</table>\n",
       "</div>"
      ],
      "text/plain": [
       "                  Production (X)  Harvest Area (Y)\n",
       "Production (X)          1.000000          0.905622\n",
       "Harvest Area (Y)        0.905622          1.000000"
      ]
     },
     "execution_count": 2,
     "metadata": {},
     "output_type": "execute_result"
    }
   ],
   "source": [
    "# Menghitung korelasi antar kolom dalam dataset\n",
    "data1.corr()"
   ]
  },
  {
   "cell_type": "markdown",
   "id": "57fbb82b",
   "metadata": {},
   "source": [
    "Berikutnya, kita menghitung korelasi antar kolom dalam dataset menggunakan fungsi corr()."
   ]
  },
  {
   "cell_type": "markdown",
   "id": "118d25d5",
   "metadata": {},
   "source": [
    "## Split Kolom"
   ]
  },
  {
   "cell_type": "code",
   "execution_count": 3,
   "id": "e71092cf",
   "metadata": {},
   "outputs": [],
   "source": [
    "# Memisahkan kolom 'Production (X)' dan 'Harvest Area (Y)' untuk digunakan dalam model\n",
    "import numpy as np\n",
    "production = data1['Production (X)'].values[:, np.newaxis]\n",
    "harvest_area = data1['Harvest Area (Y)'].values"
   ]
  },
  {
   "cell_type": "markdown",
   "id": "bc8d9c43",
   "metadata": {},
   "source": [
    "Kolom 'Production (X)' dan 'Harvest Area (Y)' dipisahkan untuk digunakan sebagai variabel independen (X) dan dependen (Y) dalam model regresi."
   ]
  },
  {
   "cell_type": "code",
   "execution_count": 4,
   "id": "5d6fed86",
   "metadata": {},
   "outputs": [
    {
     "name": "stdout",
     "output_type": "stream",
     "text": [
      "[[1329536.  ]\n",
      " [1299699.  ]\n",
      " [1382905.  ]\n",
      " [1419128.  ]\n",
      " [1368074.  ]\n",
      " [1404580.  ]\n",
      " [1478712.  ]\n",
      " [1486909.  ]\n",
      " [1547499.  ]\n",
      " [1314165.  ]\n",
      " [1246614.  ]\n",
      " [1350748.  ]\n",
      " [1411650.  ]\n",
      " [1552078.  ]\n",
      " [1556858.  ]\n",
      " [1402287.  ]\n",
      " [1533369.  ]\n",
      " [1788738.  ]\n",
      " [1772962.  ]\n",
      " [1582393.  ]\n",
      " [2331046.  ]\n",
      " [1820062.  ]\n",
      " [1956940.  ]\n",
      " [2180754.  ]\n",
      " [2478922.  ]\n",
      " [1751996.94]\n",
      " [1714437.6 ]\n",
      " [1861567.1 ]\n",
      " [2918152.  ]\n",
      " [3079960.  ]\n",
      " [3134533.  ]\n",
      " [3136760.  ]\n",
      " [3212208.  ]\n",
      " [3321049.  ]\n",
      " [3451430.  ]\n",
      " [3514253.  ]\n",
      " [3291515.  ]\n",
      " [3153305.  ]\n",
      " [3403075.  ]\n",
      " [3418782.  ]\n",
      " [3447394.  ]\n",
      " [3007636.  ]\n",
      " [3265834.  ]\n",
      " [3340794.  ]\n",
      " [3527899.  ]\n",
      " [3582302.  ]\n",
      " [3607403.  ]\n",
      " [3715514.  ]\n",
      " [3727249.  ]\n",
      " [3631039.  ]\n",
      " [4044829.  ]\n",
      " [4387035.9 ]\n",
      " [4669777.5 ]\n",
      " [2108284.72]\n",
      " [2078901.59]\n",
      " [2076280.01]\n",
      " [1806424.  ]\n",
      " [1747543.  ]\n",
      " [1829192.  ]\n",
      " [1971180.  ]\n",
      " [1787719.  ]\n",
      " [1807622.  ]\n",
      " [1897678.  ]\n",
      " [1759059.  ]\n",
      " [1668955.  ]\n",
      " [1875834.  ]\n",
      " [1823739.  ]\n",
      " [1875188.  ]\n",
      " [1907390.  ]\n",
      " [1889489.  ]\n",
      " [1938120.  ]\n",
      " [1965634.  ]\n",
      " [2105790.  ]\n",
      " [2211248.  ]\n",
      " [2279602.  ]\n",
      " [2368390.  ]\n",
      " [2430384.  ]\n",
      " [2519020.  ]\n",
      " [2550609.  ]\n",
      " [2487929.  ]\n",
      " [2810425.  ]\n",
      " [1483076.48]\n",
      " [1482996.01]\n",
      " [1450839.74]\n",
      " [ 436297.  ]\n",
      " [ 445361.  ]\n",
      " [ 458756.  ]\n",
      " [ 461905.  ]\n",
      " [ 416135.  ]\n",
      " [ 370124.  ]\n",
      " [ 461630.  ]\n",
      " [ 431351.  ]\n",
      " [ 413391.  ]\n",
      " [ 396644.  ]\n",
      " [ 414237.  ]\n",
      " [ 454186.  ]\n",
      " [ 424095.  ]\n",
      " [  42938.  ]\n",
      " [ 490087.  ]\n",
      " [ 494260.  ]\n",
      " [ 531429.  ]\n",
      " [ 574864.  ]\n",
      " [ 535788.  ]\n",
      " [ 512152.  ]\n",
      " [ 434144.  ]\n",
      " [ 385475.  ]\n",
      " [ 393917.  ]\n",
      " [ 325826.  ]\n",
      " [ 337421.  ]\n",
      " [ 266375.53]\n",
      " [ 230873.97]\n",
      " [ 269344.05]\n",
      " [ 607529.  ]\n",
      " [ 564722.  ]\n",
      " [ 593502.  ]\n",
      " [ 657650.  ]\n",
      " [ 572269.  ]\n",
      " [ 550277.  ]\n",
      " [ 553641.  ]\n",
      " [ 536779.  ]\n",
      " [ 556564.  ]\n",
      " [ 561007.  ]\n",
      " [ 578346.  ]\n",
      " [ 579404.  ]\n",
      " [ 579635.  ]\n",
      " [ 544597.  ]\n",
      " [  58663.  ]\n",
      " [ 581704.  ]\n",
      " [ 644947.  ]\n",
      " [ 628828.  ]\n",
      " [ 646641.  ]\n",
      " [ 625164.  ]\n",
      " [ 664535.  ]\n",
      " [ 664720.  ]\n",
      " [ 541486.  ]\n",
      " [ 642095.  ]\n",
      " [ 678127.  ]\n",
      " [ 383045.74]\n",
      " [ 309932.68]\n",
      " [ 374376.27]\n",
      " [1409559.  ]\n",
      " [1347611.  ]\n",
      " [1557944.  ]\n",
      " [1666591.  ]\n",
      " [1577398.  ]\n",
      " [1931505.  ]\n",
      " [1789961.  ]\n",
      " [1863643.  ]\n",
      " [1723433.  ]\n",
      " [1899849.  ]\n",
      " [1977345.  ]\n",
      " [2260794.  ]\n",
      " [2320110.  ]\n",
      " [2456251.  ]\n",
      " [2753044.  ]\n",
      " [2971286.  ]\n",
      " [3125236.  ]\n",
      " [3272451.  ]\n",
      " [3384670.  ]\n",
      " [3295247.  ]\n",
      " [3676723.  ]\n",
      " [3670435.  ]\n",
      " [4247922.  ]\n",
      " [4881089.  ]\n",
      " [4807430.  ]\n",
      " [2994191.84]\n",
      " [2603396.24]\n",
      " [2696877.46]\n",
      " [ 356709.  ]\n",
      " [ 334232.  ]\n",
      " [ 377337.  ]\n",
      " [ 396977.  ]\n",
      " [ 382123.  ]\n",
      " [ 375533.  ]\n",
      " [ 381577.  ]\n",
      " [ 362979.  ]\n",
      " [ 376973.  ]\n",
      " [ 379818.  ]\n",
      " [ 413375.  ]\n",
      " [ 414741.  ]\n",
      " [ 441276.  ]\n",
      " [ 378377.  ]\n",
      " [ 470469.  ]\n",
      " [ 484900.  ]\n",
      " [ 510160.  ]\n",
      " [ 516869.  ]\n",
      " [ 502552.  ]\n",
      " [ 581910.  ]\n",
      " [ 622832.  ]\n",
      " [ 593194.  ]\n",
      " [ 578654.  ]\n",
      " [ 629224.  ]\n",
      " [ 714017.  ]\n",
      " [ 288810.52]\n",
      " [ 296472.07]\n",
      " [ 296925.16]\n",
      " [1646900.  ]\n",
      " [1615751.  ]\n",
      " [1943709.  ]\n",
      " [1971740.  ]\n",
      " [1753656.  ]\n",
      " [1975700.  ]\n",
      " [1801422.  ]\n",
      " [1946406.  ]\n",
      " [1992726.  ]\n",
      " [1951109.  ]\n",
      " [1966293.  ]\n",
      " [2091996.  ]\n",
      " [2124144.  ]\n",
      " [2129914.  ]\n",
      " [2308404.  ]\n",
      " [2341075.  ]\n",
      " [2673844.  ]\n",
      " [2807676.  ]\n",
      " [2940795.  ]\n",
      " [3101455.  ]\n",
      " [3207002.  ]\n",
      " [3320064.  ]\n",
      " [3641895.  ]\n",
      " [3831923.  ]\n",
      " [4090654.  ]\n",
      " [2488641.91]\n",
      " [2164089.33]\n",
      " [2604913.29]]\n"
     ]
    }
   ],
   "source": [
    "print(production)"
   ]
  },
  {
   "cell_type": "code",
   "execution_count": 5,
   "id": "e7ac62f7",
   "metadata": {},
   "outputs": [
    {
     "name": "stdout",
     "output_type": "stream",
     "text": [
      "[323589.   329041.   339253.   348223.   337561.   365892.   359817.\n",
      " 336765.   295212.   315131.   367636.   370966.   337893.   320789.\n",
      " 360717.   329109.   359375.   352281.   380686.   387803.   419183.\n",
      " 376137.   461060.   293067.   294483.   329515.78 310012.46 317869.41\n",
      " 754569.   792534.   795183.   790051.   797545.   823749.   838626.\n",
      " 847610.   801948.   765161.   825188.   826091.   822073.   705023.\n",
      " 750232.   748540.   768407.   754674.   757547.   765099.   742968.\n",
      " 717318.   781769.   423029.   415675.   408176.45 413141.24 388591.22\n",
      " 394412.   382740.   400627.   430343.   395728.   412810.   432254.\n",
      " 396919.   376710.   424253.   411860.   422582.   426950.   417846.\n",
      " 423655.   421902.   439542.   460497.   461709.   476422.   487820.\n",
      " 503198.   507545.   222482.   222021.   313050.82 311671.23 295664.47\n",
      " 146133.   146177.   152204.   150354.   137953.   126280.   155683.\n",
      " 141640.   132507.   129025.   132887.   145239.   134418.   136177.\n",
      " 147167.   147796.   149423.   156088.   145242.   144015.   118518.\n",
      " 106037.   107546.    72151.    70016.    71448.08  63142.04  64733.13\n",
      " 199431.   184029.   193666.   215975.   190608.   178766.   178307.\n",
      " 171395.   164826.   165729.   159463.   156803.   154941.   140613.\n",
      " 149888.   143034.   155802.   153897.   157441.   149369.   153243.\n",
      " 145990.   122214.    96588.    97690.    86202.68  69536.06  84772.93\n",
      " 439895.   422109.   492448.   495958.   469670.   621829.   530692.\n",
      " 555427.   511928.   561724.   570010.   625013.   626849.   646927.\n",
      " 691467.   718797.   746465.   769478.   784820.   769725.   800036.\n",
      " 810900.   872737.   615184.   621903.   581574.61 539316.52 551320.76\n",
      " 109807.   104747.   115914.   121929.   113915.   111158.   114788.\n",
      " 108751.   105212.   109519.   110550.   110929.   116818.   100991.\n",
      " 123853.   127506.   132975.   133629.   127934.   144448.   147680.\n",
      " 147572.   128833.    83449.    82429.    65891.16  64406.86  64137.28\n",
      " 433078.   425940.   514363.   515192.   454087.   521575.   476899.\n",
      " 496879.   501119.   475461.   472635.   495519.   496538.   494102.\n",
      " 524955.   506547.   570417.   590608.   606973.   641876.   638090.\n",
      " 648731.   707266.   390799.   396559.   511940.93 464103.42 545149.05]\n"
     ]
    }
   ],
   "source": [
    "print(harvest_area)"
   ]
  },
  {
   "cell_type": "markdown",
   "id": "81e3b75b",
   "metadata": {},
   "source": [
    "## Modelling"
   ]
  },
  {
   "cell_type": "code",
   "execution_count": 6,
   "id": "9a1db863",
   "metadata": {},
   "outputs": [
    {
     "data": {
      "text/html": [
       "<style>#sk-container-id-1 {color: black;background-color: white;}#sk-container-id-1 pre{padding: 0;}#sk-container-id-1 div.sk-toggleable {background-color: white;}#sk-container-id-1 label.sk-toggleable__label {cursor: pointer;display: block;width: 100%;margin-bottom: 0;padding: 0.3em;box-sizing: border-box;text-align: center;}#sk-container-id-1 label.sk-toggleable__label-arrow:before {content: \"▸\";float: left;margin-right: 0.25em;color: #696969;}#sk-container-id-1 label.sk-toggleable__label-arrow:hover:before {color: black;}#sk-container-id-1 div.sk-estimator:hover label.sk-toggleable__label-arrow:before {color: black;}#sk-container-id-1 div.sk-toggleable__content {max-height: 0;max-width: 0;overflow: hidden;text-align: left;background-color: #f0f8ff;}#sk-container-id-1 div.sk-toggleable__content pre {margin: 0.2em;color: black;border-radius: 0.25em;background-color: #f0f8ff;}#sk-container-id-1 input.sk-toggleable__control:checked~div.sk-toggleable__content {max-height: 200px;max-width: 100%;overflow: auto;}#sk-container-id-1 input.sk-toggleable__control:checked~label.sk-toggleable__label-arrow:before {content: \"▾\";}#sk-container-id-1 div.sk-estimator input.sk-toggleable__control:checked~label.sk-toggleable__label {background-color: #d4ebff;}#sk-container-id-1 div.sk-label input.sk-toggleable__control:checked~label.sk-toggleable__label {background-color: #d4ebff;}#sk-container-id-1 input.sk-hidden--visually {border: 0;clip: rect(1px 1px 1px 1px);clip: rect(1px, 1px, 1px, 1px);height: 1px;margin: -1px;overflow: hidden;padding: 0;position: absolute;width: 1px;}#sk-container-id-1 div.sk-estimator {font-family: monospace;background-color: #f0f8ff;border: 1px dotted black;border-radius: 0.25em;box-sizing: border-box;margin-bottom: 0.5em;}#sk-container-id-1 div.sk-estimator:hover {background-color: #d4ebff;}#sk-container-id-1 div.sk-parallel-item::after {content: \"\";width: 100%;border-bottom: 1px solid gray;flex-grow: 1;}#sk-container-id-1 div.sk-label:hover label.sk-toggleable__label {background-color: #d4ebff;}#sk-container-id-1 div.sk-serial::before {content: \"\";position: absolute;border-left: 1px solid gray;box-sizing: border-box;top: 0;bottom: 0;left: 50%;z-index: 0;}#sk-container-id-1 div.sk-serial {display: flex;flex-direction: column;align-items: center;background-color: white;padding-right: 0.2em;padding-left: 0.2em;position: relative;}#sk-container-id-1 div.sk-item {position: relative;z-index: 1;}#sk-container-id-1 div.sk-parallel {display: flex;align-items: stretch;justify-content: center;background-color: white;position: relative;}#sk-container-id-1 div.sk-item::before, #sk-container-id-1 div.sk-parallel-item::before {content: \"\";position: absolute;border-left: 1px solid gray;box-sizing: border-box;top: 0;bottom: 0;left: 50%;z-index: -1;}#sk-container-id-1 div.sk-parallel-item {display: flex;flex-direction: column;z-index: 1;position: relative;background-color: white;}#sk-container-id-1 div.sk-parallel-item:first-child::after {align-self: flex-end;width: 50%;}#sk-container-id-1 div.sk-parallel-item:last-child::after {align-self: flex-start;width: 50%;}#sk-container-id-1 div.sk-parallel-item:only-child::after {width: 0;}#sk-container-id-1 div.sk-dashed-wrapped {border: 1px dashed gray;margin: 0 0.4em 0.5em 0.4em;box-sizing: border-box;padding-bottom: 0.4em;background-color: white;}#sk-container-id-1 div.sk-label label {font-family: monospace;font-weight: bold;display: inline-block;line-height: 1.2em;}#sk-container-id-1 div.sk-label-container {text-align: center;}#sk-container-id-1 div.sk-container {/* jupyter's `normalize.less` sets `[hidden] { display: none; }` but bootstrap.min.css set `[hidden] { display: none !important; }` so we also need the `!important` here to be able to override the default hidden behavior on the sphinx rendered scikit-learn.org. See: https://github.com/scikit-learn/scikit-learn/issues/21755 */display: inline-block !important;position: relative;}#sk-container-id-1 div.sk-text-repr-fallback {display: none;}</style><div id=\"sk-container-id-1\" class=\"sk-top-container\"><div class=\"sk-text-repr-fallback\"><pre>LinearRegression()</pre><b>In a Jupyter environment, please rerun this cell to show the HTML representation or trust the notebook. <br />On GitHub, the HTML representation is unable to render, please try loading this page with nbviewer.org.</b></div><div class=\"sk-container\" hidden><div class=\"sk-item\"><div class=\"sk-estimator sk-toggleable\"><input class=\"sk-toggleable__control sk-hidden--visually\" id=\"sk-estimator-id-1\" type=\"checkbox\" checked><label for=\"sk-estimator-id-1\" class=\"sk-toggleable__label sk-toggleable__label-arrow\">LinearRegression</label><div class=\"sk-toggleable__content\"><pre>LinearRegression()</pre></div></div></div></div></div>"
      ],
      "text/plain": [
       "LinearRegression()"
      ]
     },
     "execution_count": 6,
     "metadata": {},
     "output_type": "execute_result"
    }
   ],
   "source": [
    "# Membuat model regresi linear\n",
    "from sklearn.linear_model import LinearRegression\n",
    "\n",
    "model1 = LinearRegression()\n",
    "model1.fit(production, harvest_area)"
   ]
  },
  {
   "cell_type": "markdown",
   "id": "19af1338",
   "metadata": {},
   "source": [
    "Model regresi linear dibuat menggunakan pustaka scikit-learn."
   ]
  },
  {
   "cell_type": "markdown",
   "id": "443c2c1e",
   "metadata": {},
   "source": [
    "## Testing"
   ]
  },
  {
   "cell_type": "code",
   "execution_count": 7,
   "id": "14a67889",
   "metadata": {},
   "outputs": [
    {
     "name": "stdout",
     "output_type": "stream",
     "text": [
      "Prediksi Area Panen:  [69495.21821384 69495.49045453]\n"
     ]
    }
   ],
   "source": [
    "# Melakukan pengujian dengan data produksi 3 dan 4.5\n",
    "production_test = [[3],[4.5]]\n",
    "pred_harvest_area = model1.predict(production_test)\n",
    "print(\"Prediksi Area Panen: \", pred_harvest_area)"
   ]
  },
  {
   "cell_type": "markdown",
   "id": "0d973743",
   "metadata": {},
   "source": [
    "Model diuji menggunakan data produksi baru, yaitu 3 dan 4.5, untuk memprediksi hasil panen."
   ]
  },
  {
   "cell_type": "code",
   "execution_count": 8,
   "id": "e701369b",
   "metadata": {},
   "outputs": [
    {
     "name": "stdout",
     "output_type": "stream",
     "text": [
      "Koefisien:  [0.1814938]\n",
      "Intercept:  69494.67373244296\n"
     ]
    }
   ],
   "source": [
    "# Menampilkan koefisien dan intercept dari model regresi\n",
    "print(\"Koefisien: \", model1.coef_)\n",
    "print(\"Intercept: \", model1.intercept_)"
   ]
  },
  {
   "cell_type": "markdown",
   "id": "f0af5d00",
   "metadata": {},
   "source": [
    "Koefisien dan intercept dari model regresi linear ditampilkan."
   ]
  },
  {
   "cell_type": "code",
   "execution_count": 9,
   "id": "8707f414",
   "metadata": {},
   "outputs": [
    {
     "name": "stdout",
     "output_type": "stream",
     "text": [
      "[69499.57406498]\n"
     ]
    }
   ],
   "source": [
    "#Testing rumus\n",
    "y = model1.coef_ * 27 + model1.intercept_\n",
    "print(y)"
   ]
  },
  {
   "cell_type": "markdown",
   "id": "312f97cc",
   "metadata": {},
   "source": [
    "## Visualisasi "
   ]
  },
  {
   "cell_type": "code",
   "execution_count": 10,
   "id": "73ad7a3f",
   "metadata": {},
   "outputs": [
    {
     "name": "stderr",
     "output_type": "stream",
     "text": [
      "No artists with labels found to put in legend.  Note that artists whose label start with an underscore are ignored when legend() is called with no argument.\n"
     ]
    },
    {
     "data": {
      "image/png": "[encoded data removed]",
      "text/plain": [
       "<Figure size 640x480 with 1 Axes>"
      ]
     },
     "metadata": {},
     "output_type": "display_data"
    }
   ],
   "source": [
    "# Visualisasi hasil regresi\n",
    "import matplotlib.pyplot as plt\n",
    "\n",
    "production = data1['Production (X)'].values.reshape(-1,1)\n",
    "prediksi_score = model1.predict(production)\n",
    "\n",
    "dataframe_baru = pd.DataFrame({'Production (X)': data1['Production (X)'], 'Harvest Area (Y)': prediksi_score})\n",
    "plt.scatter(data1['Production (X)'], data1['Harvest Area (Y)'], color='green')\n",
    "plt.plot(dataframe_baru['Production (X)'], dataframe_baru['Harvest Area (Y)'], color='black',)\n",
    "plt.xlabel('Production')\n",
    "plt.ylabel('Harvest Area')\n",
    "plt.title('Plot Regresi Data Produksi dan Area Panen')\n",
    "plt.legend()\n",
    "plt.show()\n"
   ]
  },
  {
   "cell_type": "markdown",
   "id": "cd3fa20a",
   "metadata": {},
   "source": [
    "Terakhir, hasil regresi divisualisasikan dengan menggunakan matplotlib. Scatter plot menunjukkan titik data aktual, sementara garis hitam merupakan garis regresi linear yang dihasilkan oleh model."
   ]
  },
  {
   "cell_type": "code",
   "execution_count": null,
   "id": "eade4ceb",
   "metadata": {},
   "outputs": [],
   "source": []
  }
 ],
 "metadata": {
  "kernelspec": {
   "display_name": "Python 3 (ipykernel)",
   "language": "python",
   "name": "python3"
  },
  "language_info": {
   "codemirror_mode": {
    "name": "ipython",
    "version": 3
   },
   "file_extension": ".py",
   "mimetype": "text/x-python",
   "name": "python",
   "nbconvert_exporter": "python",
   "pygments_lexer": "ipython3",
   "version": "3.10.9"
  }
 },
 "nbformat": 4,
 "nbformat_minor": 5
}
